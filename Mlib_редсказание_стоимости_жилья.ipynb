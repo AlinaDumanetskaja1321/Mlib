{
 "cells": [
  {
   "cell_type": "markdown",
   "id": "GEqQaHzsZ_bA",
   "metadata": {
    "id": "GEqQaHzsZ_bA"
   },
   "source": [
    "## Предсказание стоимости жилья\n",
    "\n",
    "В проекте вам нужно обучить модель линейной регрессии на данных о жилье в Калифорнии в 1990 году. На основе данных нужно предсказать медианную стоимость дома в жилом массиве. Обучите модель и сделайте предсказания на тестовой выборке. Для оценки качества модели используйте метрики RMSE, MAE и R2."
   ]
  },
  {
   "cell_type": "markdown",
   "id": "33b33ae2",
   "metadata": {},
   "source": [
    "В колонках датасета содержатся следующие данные:\n",
    "\n",
    "\n",
    "longitude — широта;\n",
    "\n",
    "latitude — долгота;\n",
    "\n",
    "housing_median_age — медианный возраст жителей жилого массива;\n",
    "\n",
    "total_rooms — общее количество комнат в домах жилого массива;\n",
    "\n",
    "total_bedrooms — общее количество спален в домах жилого массива;\n",
    "\n",
    "population — количество человек, которые проживают в жилом массиве;\n",
    "\n",
    "households — количество домовладений в жилом массиве;\n",
    "\n",
    "median_income — медианный доход жителей жилого массива;\n",
    "median_house_value — медианная стоимость дома в жилом массиве;\n",
    "\n",
    "ocean_proximity — близость к океану.\n",
    "\n"
   ]
  },
  {
   "cell_type": "markdown",
   "id": "53871372",
   "metadata": {
    "id": "53871372"
   },
   "source": [
    "# Подготовка данных"
   ]
  },
  {
   "cell_type": "markdown",
   "id": "32460b86",
   "metadata": {},
   "source": [
    "**Импорт всех библиотек**"
   ]
  },
  {
   "cell_type": "code",
   "execution_count": 1,
   "id": "df92e3ec",
   "metadata": {
    "id": "df92e3ec"
   },
   "outputs": [],
   "source": [
    "import pandas as pd \n",
    "import numpy as np\n",
    "\n",
    "import pyspark\n",
    "from pyspark.sql import SparkSession\n",
    "from pyspark.sql.types import *\n",
    "import pyspark.sql.functions as F\n",
    "\n",
    "from pyspark.ml.feature import Imputer\n",
    "from pyspark.ml.feature import StringIndexer, VectorAssembler, StandardScaler\n",
    "from pyspark.ml.regression import LinearRegression\n",
    "#from pyspark.ml.tuning import ParamGridBuilder, CrossValidator\n",
    "from pyspark.ml.evaluation import RegressionEvaluator\n",
    "from pyspark.ml.feature import OneHotEncoder\n",
    "\n",
    "        \n",
    "from pyspark.ml import Pipeline\n",
    "\n",
    "train_ratio = 0.8\n",
    "test_ratio = 0.2\n",
    "seed = 42000\n",
    "\n",
    "spark = SparkSession.builder \\\n",
    "                    .master(\"local\") \\\n",
    "                    .appName(\"California Housing ML\") \\\n",
    "                    .getOrCreate()"
   ]
  },
  {
   "cell_type": "markdown",
   "id": "d775118f",
   "metadata": {},
   "source": [
    "**Загрузка  данных**"
   ]
  },
  {
   "cell_type": "code",
   "execution_count": 2,
   "id": "47a175c7",
   "metadata": {},
   "outputs": [
    {
     "name": "stderr",
     "output_type": "stream",
     "text": [
      "[Stage 1:>                                                          (0 + 1) / 1]\r"
     ]
    },
    {
     "name": "stdout",
     "output_type": "stream",
     "text": [
      "root\n",
      " |-- longitude: double (nullable = true)\n",
      " |-- latitude: double (nullable = true)\n",
      " |-- housing_median_age: double (nullable = true)\n",
      " |-- total_rooms: double (nullable = true)\n",
      " |-- total_bedrooms: double (nullable = true)\n",
      " |-- population: double (nullable = true)\n",
      " |-- households: double (nullable = true)\n",
      " |-- median_income: double (nullable = true)\n",
      " |-- median_house_value: double (nullable = true)\n",
      " |-- ocean_proximity: string (nullable = true)\n",
      "\n"
     ]
    },
    {
     "name": "stderr",
     "output_type": "stream",
     "text": [
      "                                                                                \r"
     ]
    }
   ],
   "source": [
    "df = spark.read.load('/datasets/housing.csv', format='csv', sep=',', inferSchema=True, header='true')\n",
    "df.printSchema()"
   ]
  },
  {
   "cell_type": "code",
   "execution_count": 3,
   "id": "0087b731",
   "metadata": {},
   "outputs": [
    {
     "name": "stdout",
     "output_type": "stream",
     "text": [
      "+---------+--------+------------------+-----------+--------------+----------+----------+-------------+------------------+---------------+\n",
      "|longitude|latitude|housing_median_age|total_rooms|total_bedrooms|population|households|median_income|median_house_value|ocean_proximity|\n",
      "+---------+--------+------------------+-----------+--------------+----------+----------+-------------+------------------+---------------+\n",
      "|  -122.23|   37.88|              41.0|      880.0|         129.0|     322.0|     126.0|       8.3252|          452600.0|       NEAR BAY|\n",
      "|  -122.22|   37.86|              21.0|     7099.0|        1106.0|    2401.0|    1138.0|       8.3014|          358500.0|       NEAR BAY|\n",
      "|  -122.24|   37.85|              52.0|     1467.0|         190.0|     496.0|     177.0|       7.2574|          352100.0|       NEAR BAY|\n",
      "|  -122.25|   37.85|              52.0|     1274.0|         235.0|     558.0|     219.0|       5.6431|          341300.0|       NEAR BAY|\n",
      "|  -122.25|   37.85|              52.0|     1627.0|         280.0|     565.0|     259.0|       3.8462|          342200.0|       NEAR BAY|\n",
      "|  -122.25|   37.85|              52.0|      919.0|         213.0|     413.0|     193.0|       4.0368|          269700.0|       NEAR BAY|\n",
      "|  -122.25|   37.84|              52.0|     2535.0|         489.0|    1094.0|     514.0|       3.6591|          299200.0|       NEAR BAY|\n",
      "|  -122.25|   37.84|              52.0|     3104.0|         687.0|    1157.0|     647.0|         3.12|          241400.0|       NEAR BAY|\n",
      "|  -122.26|   37.84|              42.0|     2555.0|         665.0|    1206.0|     595.0|       2.0804|          226700.0|       NEAR BAY|\n",
      "|  -122.25|   37.84|              52.0|     3549.0|         707.0|    1551.0|     714.0|       3.6912|          261100.0|       NEAR BAY|\n",
      "+---------+--------+------------------+-----------+--------------+----------+----------+-------------+------------------+---------------+\n",
      "only showing top 10 rows\n",
      "\n"
     ]
    }
   ],
   "source": [
    "df.show(10)"
   ]
  },
  {
   "cell_type": "markdown",
   "id": "208d40fd",
   "metadata": {},
   "source": [
    "Вывод типов данных столбцов и их названий"
   ]
  },
  {
   "cell_type": "code",
   "execution_count": 4,
   "id": "ff3531f9",
   "metadata": {},
   "outputs": [
    {
     "name": "stdout",
     "output_type": "stream",
     "text": [
      "               column    type\n",
      "0           longitude  double\n",
      "1            latitude  double\n",
      "2  housing_median_age  double\n",
      "3         total_rooms  double\n",
      "4      total_bedrooms  double\n",
      "5          population  double\n",
      "6          households  double\n",
      "7       median_income  double\n",
      "8  median_house_value  double\n",
      "9     ocean_proximity  string\n"
     ]
    }
   ],
   "source": [
    "print(pd.DataFrame(df.dtypes, columns=['column', 'type']))"
   ]
  },
  {
   "cell_type": "markdown",
   "id": "42e1f5d7",
   "metadata": {},
   "source": [
    "Изучаем данные с помощью describe()"
   ]
  },
  {
   "cell_type": "code",
   "execution_count": 5,
   "id": "d4ad4c2c",
   "metadata": {},
   "outputs": [
    {
     "name": "stderr",
     "output_type": "stream",
     "text": [
      "                                                                                \r"
     ]
    },
    {
     "data": {
      "text/html": [
       "<div>\n",
       "<style scoped>\n",
       "    .dataframe tbody tr th:only-of-type {\n",
       "        vertical-align: middle;\n",
       "    }\n",
       "\n",
       "    .dataframe tbody tr th {\n",
       "        vertical-align: top;\n",
       "    }\n",
       "\n",
       "    .dataframe thead th {\n",
       "        text-align: right;\n",
       "    }\n",
       "</style>\n",
       "<table border=\"1\" class=\"dataframe\">\n",
       "  <thead>\n",
       "    <tr style=\"text-align: right;\">\n",
       "      <th></th>\n",
       "      <th>summary</th>\n",
       "      <th>longitude</th>\n",
       "      <th>latitude</th>\n",
       "      <th>housing_median_age</th>\n",
       "      <th>total_rooms</th>\n",
       "      <th>total_bedrooms</th>\n",
       "      <th>population</th>\n",
       "      <th>households</th>\n",
       "      <th>median_income</th>\n",
       "      <th>median_house_value</th>\n",
       "      <th>ocean_proximity</th>\n",
       "    </tr>\n",
       "  </thead>\n",
       "  <tbody>\n",
       "    <tr>\n",
       "      <th>0</th>\n",
       "      <td>count</td>\n",
       "      <td>20640</td>\n",
       "      <td>20640</td>\n",
       "      <td>20640</td>\n",
       "      <td>20640</td>\n",
       "      <td>20433</td>\n",
       "      <td>20640</td>\n",
       "      <td>20640</td>\n",
       "      <td>20640</td>\n",
       "      <td>20640</td>\n",
       "      <td>20640</td>\n",
       "    </tr>\n",
       "    <tr>\n",
       "      <th>1</th>\n",
       "      <td>mean</td>\n",
       "      <td>-119.56970445736148</td>\n",
       "      <td>35.6318614341087</td>\n",
       "      <td>28.639486434108527</td>\n",
       "      <td>2635.7630813953488</td>\n",
       "      <td>537.8705525375618</td>\n",
       "      <td>1425.4767441860465</td>\n",
       "      <td>499.5396802325581</td>\n",
       "      <td>3.8706710029070246</td>\n",
       "      <td>206855.81690891474</td>\n",
       "      <td>None</td>\n",
       "    </tr>\n",
       "    <tr>\n",
       "      <th>2</th>\n",
       "      <td>stddev</td>\n",
       "      <td>2.003531723502584</td>\n",
       "      <td>2.135952397457101</td>\n",
       "      <td>12.58555761211163</td>\n",
       "      <td>2181.6152515827944</td>\n",
       "      <td>421.38507007403115</td>\n",
       "      <td>1132.46212176534</td>\n",
       "      <td>382.3297528316098</td>\n",
       "      <td>1.899821717945263</td>\n",
       "      <td>115395.61587441359</td>\n",
       "      <td>None</td>\n",
       "    </tr>\n",
       "    <tr>\n",
       "      <th>3</th>\n",
       "      <td>min</td>\n",
       "      <td>-124.35</td>\n",
       "      <td>32.54</td>\n",
       "      <td>1.0</td>\n",
       "      <td>2.0</td>\n",
       "      <td>1.0</td>\n",
       "      <td>3.0</td>\n",
       "      <td>1.0</td>\n",
       "      <td>0.4999</td>\n",
       "      <td>14999.0</td>\n",
       "      <td>&lt;1H OCEAN</td>\n",
       "    </tr>\n",
       "    <tr>\n",
       "      <th>4</th>\n",
       "      <td>max</td>\n",
       "      <td>-114.31</td>\n",
       "      <td>41.95</td>\n",
       "      <td>52.0</td>\n",
       "      <td>39320.0</td>\n",
       "      <td>6445.0</td>\n",
       "      <td>35682.0</td>\n",
       "      <td>6082.0</td>\n",
       "      <td>15.0001</td>\n",
       "      <td>500001.0</td>\n",
       "      <td>NEAR OCEAN</td>\n",
       "    </tr>\n",
       "  </tbody>\n",
       "</table>\n",
       "</div>"
      ],
      "text/plain": [
       "  summary            longitude           latitude  housing_median_age  \\\n",
       "0   count                20640              20640               20640   \n",
       "1    mean  -119.56970445736148   35.6318614341087  28.639486434108527   \n",
       "2  stddev    2.003531723502584  2.135952397457101   12.58555761211163   \n",
       "3     min              -124.35              32.54                 1.0   \n",
       "4     max              -114.31              41.95                52.0   \n",
       "\n",
       "          total_rooms      total_bedrooms          population  \\\n",
       "0               20640               20433               20640   \n",
       "1  2635.7630813953488   537.8705525375618  1425.4767441860465   \n",
       "2  2181.6152515827944  421.38507007403115    1132.46212176534   \n",
       "3                 2.0                 1.0                 3.0   \n",
       "4             39320.0              6445.0             35682.0   \n",
       "\n",
       "          households       median_income  median_house_value ocean_proximity  \n",
       "0              20640               20640               20640           20640  \n",
       "1  499.5396802325581  3.8706710029070246  206855.81690891474            None  \n",
       "2  382.3297528316098   1.899821717945263  115395.61587441359            None  \n",
       "3                1.0              0.4999             14999.0       <1H OCEAN  \n",
       "4             6082.0             15.0001            500001.0      NEAR OCEAN  "
      ]
     },
     "execution_count": 5,
     "metadata": {},
     "output_type": "execute_result"
    }
   ],
   "source": [
    "df.describe().toPandas()"
   ]
  },
  {
   "cell_type": "markdown",
   "id": "b5e575d4",
   "metadata": {},
   "source": [
    "**Смотрим пропуски ии заполняем их.**"
   ]
  },
  {
   "cell_type": "code",
   "execution_count": 6,
   "id": "70e54c36",
   "metadata": {},
   "outputs": [
    {
     "data": {
      "text/html": [
       "<div>\n",
       "<style scoped>\n",
       "    .dataframe tbody tr th:only-of-type {\n",
       "        vertical-align: middle;\n",
       "    }\n",
       "\n",
       "    .dataframe tbody tr th {\n",
       "        vertical-align: top;\n",
       "    }\n",
       "\n",
       "    .dataframe thead th {\n",
       "        text-align: right;\n",
       "    }\n",
       "</style>\n",
       "<table border=\"1\" class=\"dataframe\">\n",
       "  <thead>\n",
       "    <tr style=\"text-align: right;\">\n",
       "      <th></th>\n",
       "      <th>longitude</th>\n",
       "      <th>latitude</th>\n",
       "      <th>housing_median_age</th>\n",
       "      <th>total_rooms</th>\n",
       "      <th>total_bedrooms</th>\n",
       "      <th>population</th>\n",
       "      <th>households</th>\n",
       "      <th>median_income</th>\n",
       "      <th>median_house_value</th>\n",
       "      <th>ocean_proximity</th>\n",
       "    </tr>\n",
       "  </thead>\n",
       "  <tbody>\n",
       "    <tr>\n",
       "      <th>0</th>\n",
       "      <td>0</td>\n",
       "      <td>0</td>\n",
       "      <td>0</td>\n",
       "      <td>0</td>\n",
       "      <td>207</td>\n",
       "      <td>0</td>\n",
       "      <td>0</td>\n",
       "      <td>0</td>\n",
       "      <td>0</td>\n",
       "      <td>0</td>\n",
       "    </tr>\n",
       "  </tbody>\n",
       "</table>\n",
       "</div>"
      ],
      "text/plain": [
       "   longitude  latitude  housing_median_age  total_rooms  total_bedrooms  \\\n",
       "0          0         0                   0            0             207   \n",
       "\n",
       "   population  households  median_income  median_house_value  ocean_proximity  \n",
       "0           0           0              0                   0                0  "
      ]
     },
     "execution_count": 6,
     "metadata": {},
     "output_type": "execute_result"
    }
   ],
   "source": [
    "df.select([F.count(F.when(F.isnull(c), c)).alias(c) for c in df.columns]).toPandas()"
   ]
  },
  {
   "cell_type": "markdown",
   "id": "1fd14d56",
   "metadata": {},
   "source": [
    "Пропуски есть в total_bedrooms. Заполняем их"
   ]
  },
  {
   "cell_type": "code",
   "execution_count": 7,
   "id": "ed0cd2c2",
   "metadata": {},
   "outputs": [],
   "source": [
    "filled_df = df.fillna({\"total_bedrooms\": df.select(\"total_bedrooms\").agg({\"total_bedrooms\": \"mean\"}).first()[0]})"
   ]
  },
  {
   "cell_type": "code",
   "execution_count": 8,
   "id": "3d3607d8",
   "metadata": {},
   "outputs": [
    {
     "name": "stdout",
     "output_type": "stream",
     "text": [
      "longitude 0\n",
      "latitude 0\n",
      "housing_median_age 0\n",
      "total_rooms 0\n",
      "total_bedrooms 0\n",
      "population 0\n",
      "households 0\n",
      "median_income 0\n",
      "median_house_value 0\n",
      "ocean_proximity 0\n"
     ]
    }
   ],
   "source": [
    "columns = filled_df.columns\n",
    "\n",
    "\n",
    "for column in columns:\n",
    "    print(column, filled_df.where(F.isnan(column) | F.col(column).isNull()).count())\n",
    "    "
   ]
  },
  {
   "cell_type": "markdown",
   "id": "8c5889e3",
   "metadata": {},
   "source": [
    "## Преобразование"
   ]
  },
  {
   "cell_type": "markdown",
   "id": "2634c089",
   "metadata": {},
   "source": [
    "**Преобразование категориальных признаков**"
   ]
  },
  {
   "cell_type": "markdown",
   "id": "196f812a",
   "metadata": {},
   "source": [
    "Разделим колонки на два типа: числовые и категориальные. Так же запишем целевой признак."
   ]
  },
  {
   "cell_type": "markdown",
   "id": "9afce11c",
   "metadata": {},
   "source": [
    "Разделим наш датасет на две части -  train и test. Для каждого разбиения будем использовать метод randomSplit()"
   ]
  },
  {
   "cell_type": "code",
   "execution_count": 9,
   "id": "c2d7addb",
   "metadata": {},
   "outputs": [],
   "source": [
    "train_data, test_data = filled_df.randomSplit([train_ratio, test_ratio], seed=seed)"
   ]
  },
  {
   "cell_type": "code",
   "execution_count": 10,
   "id": "7d82995d",
   "metadata": {},
   "outputs": [],
   "source": [
    "categorical_cols = ['ocean_proximity']\n",
    "numerical_cols  = ['longitude', 'latitude', 'housing_median_age', 'total_rooms',\n",
    "                   'total_bedrooms', 'population', 'households', 'median_income']\n",
    "target = 'median_house_value' "
   ]
  },
  {
   "cell_type": "code",
   "execution_count": 11,
   "id": "0f34cf28",
   "metadata": {},
   "outputs": [
    {
     "name": "stderr",
     "output_type": "stream",
     "text": [
      "                                                                                \r"
     ]
    }
   ],
   "source": [
    "indexer = StringIndexer(inputCols=categorical_cols,\n",
    "                        outputCols=[col + '_indexed' for col in categorical_cols])\n",
    "\n",
    "pipeline = Pipeline(stages=[indexer])\n",
    "\n",
    "pipeline_model = pipeline.fit(train_data)\n",
    "train_data = pipeline_model.transform(train_data)\n",
    "\n",
    "test_data = pipeline_model.transform(test_data)"
   ]
  },
  {
   "cell_type": "code",
   "execution_count": 12,
   "id": "933ffb4a",
   "metadata": {},
   "outputs": [
    {
     "name": "stdout",
     "output_type": "stream",
     "text": [
      "+---------+--------+------------------+-----------+--------------+----------+----------+-------------+------------------+---------------+-----------------------+\n",
      "|longitude|latitude|housing_median_age|total_rooms|total_bedrooms|population|households|median_income|median_house_value|ocean_proximity|ocean_proximity_indexed|\n",
      "+---------+--------+------------------+-----------+--------------+----------+----------+-------------+------------------+---------------+-----------------------+\n",
      "|  -124.35|   40.54|              52.0|     1820.0|         300.0|     806.0|     270.0|       3.0147|           94600.0|     NEAR OCEAN|                    2.0|\n",
      "|  -124.23|   40.54|              52.0|     2694.0|         453.0|    1152.0|     435.0|       3.0806|          106700.0|     NEAR OCEAN|                    2.0|\n",
      "|  -124.18|   40.79|              40.0|     1398.0|         311.0|     788.0|     279.0|       1.4668|           64600.0|     NEAR OCEAN|                    2.0|\n",
      "|  -124.17|   40.77|              30.0|     1895.0|         366.0|     990.0|     359.0|       2.2227|           81300.0|     NEAR OCEAN|                    2.0|\n",
      "|  -124.17|   40.78|              39.0|     1606.0|         330.0|     731.0|     327.0|       1.6369|           68300.0|     NEAR OCEAN|                    2.0|\n",
      "|  -124.17|   40.79|              43.0|     2285.0|         479.0|    1169.0|     482.0|       1.9688|           70500.0|     NEAR OCEAN|                    2.0|\n",
      "|  -124.17|    40.8|              52.0|      661.0|         316.0|     392.0|     244.0|        0.957|           60000.0|     NEAR OCEAN|                    2.0|\n",
      "|  -124.17|   41.76|              20.0|     2673.0|         538.0|    1282.0|     514.0|       2.4605|          105900.0|     NEAR OCEAN|                    2.0|\n",
      "|  -124.16|   40.78|              46.0|     1975.0|         346.0|     791.0|     349.0|          3.8|           81800.0|     NEAR OCEAN|                    2.0|\n",
      "|  -124.16|   41.92|              19.0|     1668.0|         324.0|     841.0|     283.0|       2.1336|           75000.0|     NEAR OCEAN|                    2.0|\n",
      "|  -124.15|   40.78|              36.0|     2112.0|         374.0|     829.0|     368.0|       3.3984|           90000.0|     NEAR OCEAN|                    2.0|\n",
      "|  -124.15|    40.8|              47.0|     1486.0|         335.0|     765.0|     329.0|        1.755|           74100.0|     NEAR OCEAN|                    2.0|\n",
      "|  -124.15|   40.88|              33.0|     2235.0|         506.0|    1165.0|     441.0|        1.725|           57500.0|     NEAR OCEAN|                    2.0|\n",
      "|  -124.14|   40.77|              27.0|     3046.0|         605.0|    1407.0|     571.0|       2.9143|           99600.0|     NEAR OCEAN|                    2.0|\n",
      "|  -124.14|   40.78|              35.0|     2426.0|         423.0|     982.0|     432.0|       3.4219|           92800.0|     NEAR OCEAN|                    2.0|\n",
      "|  -124.13|   40.79|              32.0|     2017.0|         359.0|     855.0|     346.0|       3.5833|           92800.0|     NEAR OCEAN|                    2.0|\n",
      "|  -124.11|   40.81|              23.0|      959.0|         212.0|     425.0|     175.0|       2.5536|           96100.0|     NEAR OCEAN|                    2.0|\n",
      "|   -124.1|   40.47|              52.0|     1196.0|         236.0|     965.0|     265.0|       3.5345|           55000.0|      <1H OCEAN|                    0.0|\n",
      "|  -124.09|   40.44|              38.0|     2220.0|         426.0|    1041.0|     401.0|       2.3947|           70500.0|      <1H OCEAN|                    0.0|\n",
      "|  -124.09|   40.86|              25.0|     1322.0|         387.0|     794.0|     379.0|       1.1742|           75000.0|     NEAR OCEAN|                    2.0|\n",
      "+---------+--------+------------------+-----------+--------------+----------+----------+-------------+------------------+---------------+-----------------------+\n",
      "only showing top 20 rows\n",
      "\n"
     ]
    }
   ],
   "source": [
    "test_data.show()"
   ]
  },
  {
   "cell_type": "markdown",
   "id": "0339dd97",
   "metadata": {},
   "source": [
    "Трансформируем категориальные признаки с помощью StringIndexer"
   ]
  },
  {
   "cell_type": "markdown",
   "id": "cbaf9c62",
   "metadata": {},
   "source": [
    "Далее выполним OHE-кодирование для категорий:"
   ]
  },
  {
   "cell_type": "code",
   "execution_count": 13,
   "id": "0da10483",
   "metadata": {},
   "outputs": [],
   "source": [
    "ohe = OneHotEncoder(inputCols=[c + '_indexed' for c in categorical_cols],\n",
    "                    outputCols=[c + '_ohe' for c in categorical_cols])\n",
    "\n",
    "pipeline_ohe = Pipeline(stages=[ohe])\n",
    "\n",
    "pipeline_model = pipeline_ohe.fit(train_data)\n",
    "train_data= pipeline_model.transform(train_data)\n",
    "\n",
    "test_data = pipeline_model.transform(test_data)"
   ]
  },
  {
   "cell_type": "markdown",
   "id": "765cd4f3",
   "metadata": {},
   "source": [
    "**Преобразование числовых значений**"
   ]
  },
  {
   "cell_type": "code",
   "execution_count": 14,
   "id": "3e022a00",
   "metadata": {},
   "outputs": [],
   "source": [
    "assembler = VectorAssembler(inputCols=numerical_cols + [c+'_ohe' for c in categorical_cols],\n",
    "                           outputCol=\"features\")\n",
    "\n",
    "train_data = assembler.transform(train_data)\n",
    "test_data = assembler.transform(test_data)"
   ]
  },
  {
   "cell_type": "markdown",
   "id": "c32f0ab2",
   "metadata": {},
   "source": [
    "Объединим признаки в один вектор с помощью VectorAssembler:"
   ]
  },
  {
   "cell_type": "code",
   "execution_count": 15,
   "id": "d27a436c",
   "metadata": {},
   "outputs": [
    {
     "name": "stderr",
     "output_type": "stream",
     "text": [
      "                                                                                \r"
     ]
    }
   ],
   "source": [
    "std_scal = StandardScaler(inputCol='features', outputCol='features_scaled')\n",
    "scaler_model = std_scal.fit(train_data)\n",
    "\n",
    "train_data = scaler_model.transform(train_data)\n",
    "\n",
    "test_data = scaler_model.transform(test_data)"
   ]
  },
  {
   "cell_type": "code",
   "execution_count": 16,
   "id": "bc47512d",
   "metadata": {},
   "outputs": [],
   "source": [
    "assembler_all = VectorAssembler(inputCols=['ocean_proximity_ohe'] + ['features_scaled'],\n",
    "                                outputCol=\"all_features\")\n",
    "train_data = assembler_all.transform(train_data)\n",
    "test_data = assembler_all.transform(test_data)"
   ]
  },
  {
   "cell_type": "code",
   "execution_count": 17,
   "id": "55068fdf",
   "metadata": {},
   "outputs": [
    {
     "name": "stdout",
     "output_type": "stream",
     "text": [
      "+--------------------+\n",
      "|        all_features|\n",
      "+--------------------+\n",
      "|[0.0,0.0,1.0,0.0,...|\n",
      "|[0.0,0.0,1.0,0.0,...|\n",
      "|[0.0,0.0,1.0,0.0,...|\n",
      "+--------------------+\n",
      "only showing top 3 rows\n",
      "\n",
      "+--------------------+\n",
      "|     features_scaled|\n",
      "+--------------------+\n",
      "|[-62.130322900243...|\n",
      "|[-62.130322900243...|\n",
      "|[-62.115327649342...|\n",
      "+--------------------+\n",
      "only showing top 3 rows\n",
      "\n"
     ]
    }
   ],
   "source": [
    "train_data.select('all_features').show(3)\n",
    "train_data.select('features_scaled').show(3)"
   ]
  },
  {
   "cell_type": "code",
   "execution_count": 18,
   "id": "460d1362",
   "metadata": {},
   "outputs": [
    {
     "name": "stdout",
     "output_type": "stream",
     "text": [
      "root\n",
      " |-- longitude: double (nullable = true)\n",
      " |-- latitude: double (nullable = true)\n",
      " |-- housing_median_age: double (nullable = true)\n",
      " |-- total_rooms: double (nullable = true)\n",
      " |-- total_bedrooms: double (nullable = false)\n",
      " |-- population: double (nullable = true)\n",
      " |-- households: double (nullable = true)\n",
      " |-- median_income: double (nullable = true)\n",
      " |-- median_house_value: double (nullable = true)\n",
      " |-- ocean_proximity: string (nullable = true)\n",
      " |-- ocean_proximity_indexed: double (nullable = false)\n",
      " |-- ocean_proximity_ohe: vector (nullable = true)\n",
      " |-- features: vector (nullable = true)\n",
      " |-- features_scaled: vector (nullable = true)\n",
      " |-- all_features: vector (nullable = true)\n",
      "\n"
     ]
    }
   ],
   "source": [
    "train_data.printSchema()"
   ]
  },
  {
   "cell_type": "markdown",
   "id": "9f0a82f3",
   "metadata": {
    "id": "9f0a82f3"
   },
   "source": [
    "# Обучение моделей"
   ]
  },
  {
   "cell_type": "markdown",
   "id": "e4f8978e",
   "metadata": {},
   "source": [
    "Выведем количество записей:"
   ]
  },
  {
   "cell_type": "code",
   "execution_count": 19,
   "id": "90406fb1",
   "metadata": {},
   "outputs": [
    {
     "name": "stdout",
     "output_type": "stream",
     "text": [
      "16488 4152\n"
     ]
    }
   ],
   "source": [
    "print(train_data.count(), test_data.count())"
   ]
  },
  {
   "cell_type": "code",
   "execution_count": 20,
   "id": "52f662f6",
   "metadata": {},
   "outputs": [],
   "source": [
    "#param_grid = ParamGridBuilder() \\\n",
    " #   .addGrid(lr_all.maxIter, [5, 10, 15]) \\\n",
    "#    .addGrid(lr_all.regParam, [0.1, 0.3, 0.5]) \\\n",
    "#    .addGrid(lr_all.elasticNetParam, [0.0, 0.5, 1.0]) \\\n",
    "#    .build()"
   ]
  },
  {
   "cell_type": "code",
   "execution_count": 21,
   "id": "64665f82",
   "metadata": {},
   "outputs": [],
   "source": [
    "#evaluator = RegressionEvaluator(labelCol=target, predictionCol=\"prediction\", metricName=\"rmse\")\n"
   ]
  },
  {
   "cell_type": "code",
   "execution_count": 22,
   "id": "aa76c7ac",
   "metadata": {},
   "outputs": [],
   "source": [
    "#crossval = CrossValidator(estimator=lr_all,\n",
    "#                          estimatorParamMaps=param_grid,\n",
    "#                          evaluator=evaluator,\n",
    "#                         numFolds=3)"
   ]
  },
  {
   "cell_type": "code",
   "execution_count": 23,
   "id": "9acd09ea",
   "metadata": {},
   "outputs": [],
   "source": [
    "#cv_model = crossval.fit(train_data)\n"
   ]
  },
  {
   "cell_type": "markdown",
   "id": "92f82e04",
   "metadata": {},
   "source": [
    "Первая модель линейной регрессии будет использовать все данные:"
   ]
  },
  {
   "cell_type": "code",
   "execution_count": 39,
   "id": "289d3def",
   "metadata": {},
   "outputs": [],
   "source": [
    "lr_all = LinearRegression(labelCol=target, featuresCol='all_features',\n",
    "                          maxIter=5, regParam=0.5, elasticNetParam=0.2)\n",
    "model_all = lr_all.fit(train_data)\n",
    "\n"
   ]
  },
  {
   "cell_type": "markdown",
   "id": "fb3e10ef",
   "metadata": {},
   "source": [
    "Теперь  построим вторую модель, используя только числовые переменные, исключив категориальные:"
   ]
  },
  {
   "cell_type": "code",
   "execution_count": 40,
   "id": "8e105ea9",
   "metadata": {},
   "outputs": [],
   "source": [
    "lr_num = LinearRegression(labelCol=target, featuresCol='features_scaled',\n",
    "                          maxIter=5, regParam=0.5, elasticNetParam=0.2)\n",
    "model_num = lr_num.fit(train_data)"
   ]
  },
  {
   "cell_type": "markdown",
   "id": "b6d46f5f",
   "metadata": {},
   "source": []
  },
  {
   "cell_type": "code",
   "execution_count": 41,
   "id": "caabe564",
   "metadata": {},
   "outputs": [
    {
     "name": "stdout",
     "output_type": "stream",
     "text": [
      "+------------------+------------------+\n",
      "|median_house_value|        prediction|\n",
      "+------------------+------------------+\n",
      "|           94600.0|234207.51764302014|\n",
      "|          106700.0|239446.49646264437|\n",
      "|           64600.0| 173065.6032408022|\n",
      "|           81300.0|192700.03058803076|\n",
      "|           68300.0|180151.51675253105|\n",
      "|           70500.0| 195122.7207519093|\n",
      "|           60000.0|164652.30008784495|\n",
      "|          105900.0|195433.47105998662|\n",
      "|           81800.0| 256819.1655093949|\n",
      "|           75000.0| 179362.4168978295|\n",
      "|           90000.0| 237780.4203266349|\n",
      "|           74100.0|188318.24127857573|\n",
      "|           57500.0| 179975.1039461252|\n",
      "|           99600.0|218527.32707777433|\n",
      "|           92800.0|238810.22582517733|\n",
      "|           92800.0|240037.82603403123|\n",
      "|           96100.0|196891.17773419898|\n",
      "|           55000.0| 232448.8177119519|\n",
      "|           70500.0|193080.24654561217|\n",
      "|           75000.0|154485.37099691824|\n",
      "+------------------+------------------+\n",
      "only showing top 20 rows\n",
      "\n"
     ]
    }
   ],
   "source": [
    "predictions_all = model_all.transform(test_data)\n",
    "predictions_all.select(\"median_house_value\", \"prediction\").show()"
   ]
  },
  {
   "cell_type": "code",
   "execution_count": 42,
   "id": "924ae7e5",
   "metadata": {
    "scrolled": true
   },
   "outputs": [
    {
     "name": "stdout",
     "output_type": "stream",
     "text": [
      "+------------------+------------------+\n",
      "|median_house_value|        prediction|\n",
      "+------------------+------------------+\n",
      "|           94600.0|236307.85373572377|\n",
      "|          106700.0| 242839.4484150107|\n",
      "|           64600.0|163197.95597847214|\n",
      "|           81300.0|183973.34889848623|\n",
      "|           68300.0|171640.70250554022|\n",
      "|           70500.0| 190096.8035226739|\n",
      "|           60000.0|157088.78885085986|\n",
      "|          105900.0|184895.23373889923|\n",
      "|           81800.0|261496.76523847517|\n",
      "|           75000.0|164843.77640673157|\n",
      "|           90000.0| 237646.9290617518|\n",
      "|           74100.0| 182620.3722906137|\n",
      "|           57500.0| 170491.5839396366|\n",
      "|           99600.0| 214339.4624919569|\n",
      "|           92800.0| 238757.1980112684|\n",
      "|           92800.0|239187.61035602645|\n",
      "|           96100.0|187225.78062247892|\n",
      "|           55000.0|233180.62397900864|\n",
      "|           70500.0|186308.16009927355|\n",
      "|           75000.0|139711.29061584175|\n",
      "+------------------+------------------+\n",
      "only showing top 20 rows\n",
      "\n"
     ]
    }
   ],
   "source": [
    "predictions_num = model_num.transform(test_data)\n",
    "predictions_num.select(\"median_house_value\", \"prediction\").show()"
   ]
  },
  {
   "cell_type": "markdown",
   "id": "757fd103",
   "metadata": {
    "id": "757fd103"
   },
   "source": [
    "# Анализ результатов"
   ]
  },
  {
   "cell_type": "code",
   "execution_count": 43,
   "id": "481db19c",
   "metadata": {},
   "outputs": [
    {
     "name": "stdout",
     "output_type": "stream",
     "text": [
      "RMSE: 71728.72621594628\n",
      "RMSE_all: 72809.54270996408\n"
     ]
    }
   ],
   "source": [
    "evaluator_rmse = RegressionEvaluator(labelCol=target, predictionCol=\"prediction\", metricName=\"rmse\")\n",
    "rmse_num = evaluator_rmse.evaluate(predictions_num)\n",
    "rmse_all = evaluator_rmse.evaluate(predictions_all)\n",
    "print(f\"RMSE: {rmse_num}\")\n",
    "print(f\"RMSE_all: {rmse_all}\")\n"
   ]
  },
  {
   "cell_type": "markdown",
   "id": "0e40178f",
   "metadata": {},
   "source": [
    "RMSE — это мера среднего отклонения прогнозируемых значений от фактических значений. Чем ниже RMSE, тем лучше производительность модели.\n",
    "\n",
    "Показатели  модели с числовыми даннымаи показывает лучшие результаты "
   ]
  },
  {
   "cell_type": "code",
   "execution_count": 44,
   "id": "0af096a8",
   "metadata": {},
   "outputs": [
    {
     "name": "stdout",
     "output_type": "stream",
     "text": [
      "MAE: 51907.0410571168\n",
      "MAE_all: 52923.32361287323\n"
     ]
    }
   ],
   "source": [
    "evaluator_mae = RegressionEvaluator(labelCol=target, predictionCol=\"prediction\", metricName=\"mae\")\n",
    "mae_all = evaluator_mae.evaluate(predictions_all)\n",
    "mae_num = evaluator_mae.evaluate(predictions_num)\n",
    "print(f\"MAE: {mae_num}\")\n",
    "print(f\"MAE_all: {mae_all}\")\n"
   ]
  },
  {
   "cell_type": "markdown",
   "id": "c81422ad",
   "metadata": {},
   "source": [
    "Он представляет собой среднюю абсолютную разницу между прогнозируемыми и фактическими значениями. \n",
    "\n",
    "Как видим, согласно значениям метрики MAE модель с числовыми значениями   работает точнее."
   ]
  },
  {
   "cell_type": "code",
   "execution_count": 45,
   "id": "ea1f6c7b",
   "metadata": {},
   "outputs": [
    {
     "name": "stdout",
     "output_type": "stream",
     "text": [
      "R2: 0.6190369669760517\n",
      "R2_all: 0.6074696826341224\n"
     ]
    }
   ],
   "source": [
    "evaluator_r2 = RegressionEvaluator(labelCol=target, predictionCol=\"prediction\", metricName=\"r2\")\n",
    "r2_all = evaluator_r2.evaluate(predictions_all)\n",
    "r2_num = evaluator_r2.evaluate(predictions_num)\n",
    "print(f\"R2: {r2_num}\")\n",
    "print(f\"R2_all: {r2_all}\")\n"
   ]
  },
  {
   "cell_type": "markdown",
   "id": "d0621929",
   "metadata": {},
   "source": [
    "Как видим, согласно значениям метрики R2 первая модель работает чуть точнее"
   ]
  },
  {
   "cell_type": "markdown",
   "id": "1bb47ea4",
   "metadata": {},
   "source": [
    "**Вывод**\n",
    "\n",
    "В рамках данной работы мы:\n",
    "\n",
    "- Инициализировали локальную Spark-сессию\n",
    "- Провели предобработку данных, используя методы pySpark\n",
    "- Исследовали данные на наличие пропусков и избавились от них\n",
    "- Преобразовали колонку с категориальными значениями техникой One hot encoding.\n",
    "- Провели стандартизацию количественных признаков\n",
    "- Построив две модели линейной регрессии на разных наборах данных:\n",
    "\n",
    "* используя все данные из файла;\n",
    "\n",
    "* используя только числовые переменные, исключив категориальные.\n",
    "\n",
    "Мы выяснили, что согласно метрикам RMSE, MAE и R2 \n",
    "\n",
    "точнее работает  модель, использующая только числовые данные из файла.\n"
   ]
  }
 ],
 "metadata": {
  "ExecuteTimeLog": [
   {
    "duration": 15705,
    "start_time": "2023-12-06T18:59:24.856Z"
   },
   {
    "duration": 8015,
    "start_time": "2023-12-06T19:00:44.949Z"
   },
   {
    "duration": 78,
    "start_time": "2023-12-06T19:01:25.414Z"
   },
   {
    "duration": 31,
    "start_time": "2023-12-06T19:01:33.772Z"
   },
   {
    "duration": 611,
    "start_time": "2023-12-06T19:02:00.456Z"
   },
   {
    "duration": 3550,
    "start_time": "2023-12-06T19:02:19.729Z"
   },
   {
    "duration": 11,
    "start_time": "2023-12-06T19:09:00.155Z"
   },
   {
    "duration": 10,
    "start_time": "2023-12-06T19:09:54.691Z"
   },
   {
    "duration": 14,
    "start_time": "2023-12-06T19:10:10.529Z"
   },
   {
    "duration": 14,
    "start_time": "2023-12-06T19:10:15.857Z"
   },
   {
    "duration": 866,
    "start_time": "2023-12-06T19:10:21.014Z"
   },
   {
    "duration": 8,
    "start_time": "2023-12-06T19:10:42.658Z"
   },
   {
    "duration": 3950,
    "start_time": "2023-12-06T19:10:48.818Z"
   },
   {
    "duration": 533,
    "start_time": "2023-12-06T19:11:08.850Z"
   },
   {
    "duration": 490,
    "start_time": "2023-12-06T19:11:15.176Z"
   },
   {
    "duration": 261,
    "start_time": "2023-12-06T19:12:01.621Z"
   },
   {
    "duration": 2846,
    "start_time": "2023-12-06T19:12:57.314Z"
   },
   {
    "duration": 2696,
    "start_time": "2023-12-06T19:14:06.470Z"
   },
   {
    "duration": 3,
    "start_time": "2023-12-06T19:15:28.507Z"
   },
   {
    "duration": 55,
    "start_time": "2023-12-06T19:19:57.026Z"
   },
   {
    "duration": 29,
    "start_time": "2023-12-06T19:20:23.642Z"
   },
   {
    "duration": 17,
    "start_time": "2023-12-06T19:24:14.758Z"
   },
   {
    "duration": 16,
    "start_time": "2023-12-06T19:24:46.779Z"
   },
   {
    "duration": 15132,
    "start_time": "2023-12-06T19:25:15.030Z"
   },
   {
    "duration": 7624,
    "start_time": "2023-12-06T19:25:30.165Z"
   },
   {
    "duration": 690,
    "start_time": "2023-12-06T19:25:37.790Z"
   },
   {
    "duration": 91,
    "start_time": "2023-12-06T19:25:38.482Z"
   },
   {
    "duration": 4111,
    "start_time": "2023-12-06T19:25:38.576Z"
   },
   {
    "duration": 900,
    "start_time": "2023-12-06T19:25:42.688Z"
   },
   {
    "duration": 610,
    "start_time": "2023-12-06T19:25:43.589Z"
   },
   {
    "duration": 3800,
    "start_time": "2023-12-06T19:25:44.260Z"
   },
   {
    "duration": 4,
    "start_time": "2023-12-06T19:25:48.062Z"
   },
   {
    "duration": 165,
    "start_time": "2023-12-06T19:25:48.068Z"
   },
   {
    "duration": 0,
    "start_time": "2023-12-06T19:25:48.234Z"
   },
   {
    "duration": 18,
    "start_time": "2023-12-06T19:32:50.441Z"
   },
   {
    "duration": 16,
    "start_time": "2023-12-06T19:33:14.820Z"
   },
   {
    "duration": 16,
    "start_time": "2023-12-06T19:33:22.825Z"
   },
   {
    "duration": 1698,
    "start_time": "2023-12-06T19:34:40.902Z"
   },
   {
    "duration": 731,
    "start_time": "2023-12-06T19:35:25.665Z"
   },
   {
    "duration": 16,
    "start_time": "2023-12-06T19:35:51.310Z"
   },
   {
    "duration": 104,
    "start_time": "2023-12-06T19:36:02.271Z"
   },
   {
    "duration": 15595,
    "start_time": "2023-12-06T19:37:52.586Z"
   },
   {
    "duration": 7824,
    "start_time": "2023-12-06T19:38:08.183Z"
   },
   {
    "duration": 723,
    "start_time": "2023-12-06T19:38:16.060Z"
   },
   {
    "duration": 92,
    "start_time": "2023-12-06T19:38:16.785Z"
   },
   {
    "duration": 4295,
    "start_time": "2023-12-06T19:38:16.879Z"
   },
   {
    "duration": 1118,
    "start_time": "2023-12-06T19:38:21.176Z"
   },
   {
    "duration": 727,
    "start_time": "2023-12-06T19:38:22.359Z"
   },
   {
    "duration": 3822,
    "start_time": "2023-12-06T19:38:23.087Z"
   },
   {
    "duration": 3,
    "start_time": "2023-12-06T19:38:26.910Z"
   },
   {
    "duration": 121,
    "start_time": "2023-12-06T19:38:26.916Z"
   },
   {
    "duration": 1192,
    "start_time": "2023-12-06T19:38:39.383Z"
   },
   {
    "duration": 7,
    "start_time": "2023-12-06T19:38:51.526Z"
   },
   {
    "duration": 298,
    "start_time": "2023-12-06T19:39:14.169Z"
   },
   {
    "duration": 12,
    "start_time": "2023-12-06T19:39:30.696Z"
   },
   {
    "duration": 11,
    "start_time": "2023-12-06T19:40:58.189Z"
   },
   {
    "duration": 166,
    "start_time": "2023-12-06T19:41:56.451Z"
   },
   {
    "duration": 124,
    "start_time": "2023-12-06T19:42:10.422Z"
   },
   {
    "duration": 11,
    "start_time": "2023-12-06T19:43:04.400Z"
   },
   {
    "duration": 120,
    "start_time": "2023-12-06T19:44:08.558Z"
   },
   {
    "duration": 2356,
    "start_time": "2023-12-06T19:44:24.829Z"
   },
   {
    "duration": 97,
    "start_time": "2023-12-06T19:44:46.072Z"
   },
   {
    "duration": 15488,
    "start_time": "2023-12-06T19:45:11.398Z"
   },
   {
    "duration": 7901,
    "start_time": "2023-12-06T19:45:26.888Z"
   },
   {
    "duration": 679,
    "start_time": "2023-12-06T19:45:34.791Z"
   },
   {
    "duration": 92,
    "start_time": "2023-12-06T19:45:35.473Z"
   },
   {
    "duration": 3822,
    "start_time": "2023-12-06T19:45:35.567Z"
   },
   {
    "duration": 981,
    "start_time": "2023-12-06T19:45:39.392Z"
   },
   {
    "duration": 686,
    "start_time": "2023-12-06T19:45:40.375Z"
   },
   {
    "duration": 4046,
    "start_time": "2023-12-06T19:45:41.063Z"
   },
   {
    "duration": 47,
    "start_time": "2023-12-06T19:45:45.111Z"
   },
   {
    "duration": 1249,
    "start_time": "2023-12-06T19:45:45.162Z"
   },
   {
    "duration": 276,
    "start_time": "2023-12-06T19:45:46.413Z"
   },
   {
    "duration": 1789,
    "start_time": "2023-12-06T19:45:46.690Z"
   },
   {
    "duration": 318,
    "start_time": "2023-12-06T19:46:02.464Z"
   },
   {
    "duration": 1467,
    "start_time": "2023-12-06T19:47:10.197Z"
   },
   {
    "duration": 48,
    "start_time": "2023-12-06T19:50:15.748Z"
   },
   {
    "duration": 7,
    "start_time": "2023-12-06T19:50:51.703Z"
   },
   {
    "duration": 263,
    "start_time": "2023-12-06T19:51:02.118Z"
   },
   {
    "duration": 1830,
    "start_time": "2023-12-06T19:51:16.324Z"
   },
   {
    "duration": 33,
    "start_time": "2023-12-06T19:52:46.905Z"
   },
   {
    "duration": 8,
    "start_time": "2023-12-06T19:53:23.449Z"
   },
   {
    "duration": 8,
    "start_time": "2023-12-06T19:53:29.186Z"
   },
   {
    "duration": 8,
    "start_time": "2023-12-06T19:54:20.135Z"
   },
   {
    "duration": 7,
    "start_time": "2023-12-06T19:54:44.463Z"
   },
   {
    "duration": 8,
    "start_time": "2023-12-06T19:55:17.490Z"
   },
   {
    "duration": 7,
    "start_time": "2023-12-06T19:56:38.200Z"
   },
   {
    "duration": 15876,
    "start_time": "2023-12-06T20:18:12.785Z"
   },
   {
    "duration": 8615,
    "start_time": "2023-12-06T20:18:28.664Z"
   },
   {
    "duration": 681,
    "start_time": "2023-12-06T20:18:37.281Z"
   },
   {
    "duration": 31,
    "start_time": "2023-12-06T20:18:37.964Z"
   },
   {
    "duration": 3922,
    "start_time": "2023-12-06T20:18:38.059Z"
   },
   {
    "duration": 1076,
    "start_time": "2023-12-06T20:18:41.982Z"
   },
   {
    "duration": 709,
    "start_time": "2023-12-06T20:18:43.060Z"
   },
   {
    "duration": 3606,
    "start_time": "2023-12-06T20:18:43.770Z"
   },
   {
    "duration": 3,
    "start_time": "2023-12-06T20:18:47.377Z"
   },
   {
    "duration": 1207,
    "start_time": "2023-12-06T20:18:47.382Z"
   },
   {
    "duration": 274,
    "start_time": "2023-12-06T20:18:48.591Z"
   },
   {
    "duration": 1780,
    "start_time": "2023-12-06T20:18:48.867Z"
   },
   {
    "duration": 57,
    "start_time": "2023-12-06T20:18:50.649Z"
   },
   {
    "duration": 2482,
    "start_time": "2023-12-06T20:18:50.707Z"
   },
   {
    "duration": 986,
    "start_time": "2023-12-06T20:18:53.192Z"
   },
   {
    "duration": 30,
    "start_time": "2023-12-06T20:46:18.923Z"
   },
   {
    "duration": 505,
    "start_time": "2023-12-06T20:47:14.481Z"
   },
   {
    "duration": 76,
    "start_time": "2023-12-06T20:49:22.173Z"
   },
   {
    "duration": 7,
    "start_time": "2023-12-06T20:49:36.581Z"
   },
   {
    "duration": 15754,
    "start_time": "2023-12-06T20:49:47.849Z"
   },
   {
    "duration": 8287,
    "start_time": "2023-12-06T20:50:03.605Z"
   },
   {
    "duration": 767,
    "start_time": "2023-12-06T20:50:11.894Z"
   },
   {
    "duration": 32,
    "start_time": "2023-12-06T20:50:12.663Z"
   },
   {
    "duration": 3896,
    "start_time": "2023-12-06T20:50:12.697Z"
   },
   {
    "duration": 980,
    "start_time": "2023-12-06T20:50:16.594Z"
   },
   {
    "duration": 685,
    "start_time": "2023-12-06T20:50:17.576Z"
   },
   {
    "duration": 3486,
    "start_time": "2023-12-06T20:50:18.263Z"
   },
   {
    "duration": 3,
    "start_time": "2023-12-06T20:50:21.759Z"
   },
   {
    "duration": 1196,
    "start_time": "2023-12-06T20:50:21.764Z"
   },
   {
    "duration": 220,
    "start_time": "2023-12-06T20:50:22.961Z"
   },
   {
    "duration": 1965,
    "start_time": "2023-12-06T20:50:23.183Z"
   },
   {
    "duration": 51,
    "start_time": "2023-12-06T20:50:25.150Z"
   },
   {
    "duration": 2847,
    "start_time": "2023-12-06T20:50:25.204Z"
   },
   {
    "duration": 835,
    "start_time": "2023-12-06T20:50:28.053Z"
   },
   {
    "duration": 138,
    "start_time": "2023-12-06T20:50:28.890Z"
   },
   {
    "duration": 0,
    "start_time": "2023-12-06T20:50:29.031Z"
   },
   {
    "duration": 0,
    "start_time": "2023-12-06T20:50:29.032Z"
   },
   {
    "duration": 15323,
    "start_time": "2023-12-06T20:55:12.338Z"
   },
   {
    "duration": 7923,
    "start_time": "2023-12-06T20:55:27.663Z"
   },
   {
    "duration": 678,
    "start_time": "2023-12-06T20:55:35.588Z"
   },
   {
    "duration": 90,
    "start_time": "2023-12-06T20:55:36.269Z"
   },
   {
    "duration": 3816,
    "start_time": "2023-12-06T20:55:36.361Z"
   },
   {
    "duration": 984,
    "start_time": "2023-12-06T20:55:40.179Z"
   },
   {
    "duration": 704,
    "start_time": "2023-12-06T20:55:41.165Z"
   },
   {
    "duration": 3714,
    "start_time": "2023-12-06T20:55:41.871Z"
   },
   {
    "duration": 4,
    "start_time": "2023-12-06T20:55:45.587Z"
   },
   {
    "duration": 1582,
    "start_time": "2023-12-06T20:55:45.593Z"
   },
   {
    "duration": 318,
    "start_time": "2023-12-06T20:55:47.177Z"
   },
   {
    "duration": 2084,
    "start_time": "2023-12-06T20:55:47.497Z"
   },
   {
    "duration": 2,
    "start_time": "2023-12-06T20:55:49.583Z"
   },
   {
    "duration": 21,
    "start_time": "2023-12-06T20:55:49.587Z"
   },
   {
    "duration": 7,
    "start_time": "2023-12-06T20:55:49.609Z"
   },
   {
    "duration": 14,
    "start_time": "2023-12-06T20:55:49.618Z"
   },
   {
    "duration": 52,
    "start_time": "2023-12-06T20:55:49.634Z"
   },
   {
    "duration": 1192,
    "start_time": "2023-12-06T20:55:49.687Z"
   },
   {
    "duration": 81,
    "start_time": "2023-12-06T20:55:50.880Z"
   },
   {
    "duration": 552,
    "start_time": "2023-12-06T20:55:50.963Z"
   },
   {
    "duration": 0,
    "start_time": "2023-12-06T20:55:51.516Z"
   },
   {
    "duration": 418,
    "start_time": "2023-12-06T20:56:23.442Z"
   },
   {
    "duration": 465,
    "start_time": "2023-12-06T21:00:18.025Z"
   },
   {
    "duration": 8,
    "start_time": "2023-12-06T21:01:19.096Z"
   },
   {
    "duration": 2,
    "start_time": "2023-12-06T21:01:38.033Z"
   },
   {
    "duration": 3085,
    "start_time": "2023-12-06T21:01:39.201Z"
   },
   {
    "duration": 18,
    "start_time": "2023-12-06T21:06:18.067Z"
   },
   {
    "duration": 119,
    "start_time": "2023-12-06T21:06:51.551Z"
   },
   {
    "duration": 15896,
    "start_time": "2023-12-06T21:07:45.668Z"
   },
   {
    "duration": 7918,
    "start_time": "2023-12-06T21:08:01.567Z"
   },
   {
    "duration": 677,
    "start_time": "2023-12-06T21:08:09.489Z"
   },
   {
    "duration": 29,
    "start_time": "2023-12-06T21:08:10.168Z"
   },
   {
    "duration": 3871,
    "start_time": "2023-12-06T21:08:10.198Z"
   },
   {
    "duration": 914,
    "start_time": "2023-12-06T21:08:14.071Z"
   },
   {
    "duration": 694,
    "start_time": "2023-12-06T21:08:14.987Z"
   },
   {
    "duration": 3708,
    "start_time": "2023-12-06T21:08:15.682Z"
   },
   {
    "duration": 3,
    "start_time": "2023-12-06T21:08:19.392Z"
   },
   {
    "duration": 1306,
    "start_time": "2023-12-06T21:08:19.398Z"
   },
   {
    "duration": 226,
    "start_time": "2023-12-06T21:08:20.759Z"
   },
   {
    "duration": 1979,
    "start_time": "2023-12-06T21:08:20.986Z"
   },
   {
    "duration": 2,
    "start_time": "2023-12-06T21:08:22.967Z"
   },
   {
    "duration": 20,
    "start_time": "2023-12-06T21:08:22.971Z"
   },
   {
    "duration": 8,
    "start_time": "2023-12-06T21:08:22.992Z"
   },
   {
    "duration": 9,
    "start_time": "2023-12-06T21:08:23.001Z"
   },
   {
    "duration": 72,
    "start_time": "2023-12-06T21:08:23.011Z"
   },
   {
    "duration": 1314,
    "start_time": "2023-12-06T21:08:23.084Z"
   },
   {
    "duration": 29,
    "start_time": "2023-12-06T21:08:24.459Z"
   },
   {
    "duration": 609,
    "start_time": "2023-12-06T21:08:24.490Z"
   },
   {
    "duration": 2,
    "start_time": "2023-12-06T21:08:25.101Z"
   },
   {
    "duration": 2333,
    "start_time": "2023-12-06T21:09:29.786Z"
   },
   {
    "duration": 25,
    "start_time": "2023-12-06T21:09:38.285Z"
   },
   {
    "duration": 5,
    "start_time": "2023-12-06T21:10:25.649Z"
   },
   {
    "duration": 1521,
    "start_time": "2023-12-06T21:12:53.392Z"
   },
   {
    "duration": 75,
    "start_time": "2023-12-06T21:13:46.723Z"
   },
   {
    "duration": 713,
    "start_time": "2023-12-06T21:14:01.133Z"
   },
   {
    "duration": 1084,
    "start_time": "2023-12-06T21:14:04.677Z"
   },
   {
    "duration": 3,
    "start_time": "2023-12-06T21:20:24.793Z"
   },
   {
    "duration": 22,
    "start_time": "2023-12-06T21:20:25.939Z"
   },
   {
    "duration": 31,
    "start_time": "2023-12-06T21:28:28.725Z"
   },
   {
    "duration": 9,
    "start_time": "2023-12-06T21:28:37.601Z"
   },
   {
    "duration": 3,
    "start_time": "2023-12-06T21:28:51.461Z"
   },
   {
    "duration": 3,
    "start_time": "2023-12-06T21:29:00.979Z"
   },
   {
    "duration": 3,
    "start_time": "2023-12-06T21:29:27.678Z"
   },
   {
    "duration": 9,
    "start_time": "2023-12-06T21:29:37.035Z"
   },
   {
    "duration": 12,
    "start_time": "2023-12-06T21:29:49.083Z"
   },
   {
    "duration": 8,
    "start_time": "2023-12-06T21:30:40.454Z"
   },
   {
    "duration": 10,
    "start_time": "2023-12-06T21:30:42.137Z"
   },
   {
    "duration": 3,
    "start_time": "2023-12-06T21:31:52.897Z"
   },
   {
    "duration": 9,
    "start_time": "2023-12-06T21:31:53.842Z"
   },
   {
    "duration": 3,
    "start_time": "2023-12-06T21:32:13.303Z"
   },
   {
    "duration": 10,
    "start_time": "2023-12-06T21:32:14.660Z"
   },
   {
    "duration": 3,
    "start_time": "2023-12-06T21:32:16.449Z"
   },
   {
    "duration": 350,
    "start_time": "2023-12-06T21:32:18.037Z"
   },
   {
    "duration": 13,
    "start_time": "2023-12-06T21:35:20.886Z"
   },
   {
    "duration": 15513,
    "start_time": "2023-12-06T21:35:38.090Z"
   },
   {
    "duration": 7701,
    "start_time": "2023-12-06T21:35:53.658Z"
   },
   {
    "duration": 697,
    "start_time": "2023-12-06T21:36:01.361Z"
   },
   {
    "duration": 31,
    "start_time": "2023-12-06T21:36:02.060Z"
   },
   {
    "duration": 4015,
    "start_time": "2023-12-06T21:36:02.093Z"
   },
   {
    "duration": 968,
    "start_time": "2023-12-06T21:36:06.109Z"
   },
   {
    "duration": 695,
    "start_time": "2023-12-06T21:36:07.079Z"
   },
   {
    "duration": 3886,
    "start_time": "2023-12-06T21:36:07.776Z"
   },
   {
    "duration": 3,
    "start_time": "2023-12-06T21:36:11.664Z"
   },
   {
    "duration": 1500,
    "start_time": "2023-12-06T21:36:11.670Z"
   },
   {
    "duration": 222,
    "start_time": "2023-12-06T21:36:13.172Z"
   },
   {
    "duration": 1928,
    "start_time": "2023-12-06T21:36:13.395Z"
   },
   {
    "duration": 56,
    "start_time": "2023-12-06T21:36:15.324Z"
   },
   {
    "duration": 1211,
    "start_time": "2023-12-06T21:36:15.381Z"
   },
   {
    "duration": 81,
    "start_time": "2023-12-06T21:36:16.594Z"
   },
   {
    "duration": 587,
    "start_time": "2023-12-06T21:36:16.677Z"
   },
   {
    "duration": 111,
    "start_time": "2023-12-06T21:36:17.266Z"
   },
   {
    "duration": 0,
    "start_time": "2023-12-06T21:36:17.379Z"
   },
   {
    "duration": 0,
    "start_time": "2023-12-06T21:36:17.380Z"
   },
   {
    "duration": 0,
    "start_time": "2023-12-06T21:36:17.381Z"
   },
   {
    "duration": 0,
    "start_time": "2023-12-06T21:36:17.382Z"
   },
   {
    "duration": 0,
    "start_time": "2023-12-06T21:36:17.384Z"
   },
   {
    "duration": 0,
    "start_time": "2023-12-06T21:36:17.385Z"
   },
   {
    "duration": 0,
    "start_time": "2023-12-06T21:36:17.387Z"
   },
   {
    "duration": 0,
    "start_time": "2023-12-06T21:36:17.390Z"
   },
   {
    "duration": 0,
    "start_time": "2023-12-06T21:36:17.392Z"
   },
   {
    "duration": 4,
    "start_time": "2023-12-06T21:36:48.233Z"
   },
   {
    "duration": 19,
    "start_time": "2023-12-06T21:36:57.368Z"
   },
   {
    "duration": 34,
    "start_time": "2023-12-06T21:37:00.211Z"
   },
   {
    "duration": 3,
    "start_time": "2023-12-06T21:37:02.031Z"
   },
   {
    "duration": 3,
    "start_time": "2023-12-06T21:37:11.488Z"
   },
   {
    "duration": 2,
    "start_time": "2023-12-06T21:37:13.464Z"
   },
   {
    "duration": 10,
    "start_time": "2023-12-06T21:37:15.548Z"
   },
   {
    "duration": 3,
    "start_time": "2023-12-06T21:37:20.608Z"
   },
   {
    "duration": 526,
    "start_time": "2023-12-06T21:39:01.069Z"
   },
   {
    "duration": 2,
    "start_time": "2023-12-06T21:44:23.793Z"
   },
   {
    "duration": 15246,
    "start_time": "2023-12-06T21:48:37.718Z"
   },
   {
    "duration": 8135,
    "start_time": "2023-12-06T21:48:52.967Z"
   },
   {
    "duration": 774,
    "start_time": "2023-12-06T21:49:01.103Z"
   },
   {
    "duration": 92,
    "start_time": "2023-12-06T21:49:01.881Z"
   },
   {
    "duration": 3905,
    "start_time": "2023-12-06T21:49:01.975Z"
   },
   {
    "duration": 897,
    "start_time": "2023-12-06T21:49:05.882Z"
   },
   {
    "duration": 685,
    "start_time": "2023-12-06T21:49:06.780Z"
   },
   {
    "duration": 3426,
    "start_time": "2023-12-06T21:49:07.467Z"
   },
   {
    "duration": 3,
    "start_time": "2023-12-06T21:49:10.895Z"
   },
   {
    "duration": 1146,
    "start_time": "2023-12-06T21:49:10.958Z"
   },
   {
    "duration": 263,
    "start_time": "2023-12-06T21:49:12.107Z"
   },
   {
    "duration": 1961,
    "start_time": "2023-12-06T21:49:12.371Z"
   },
   {
    "duration": 60,
    "start_time": "2023-12-06T21:49:14.334Z"
   },
   {
    "duration": 1188,
    "start_time": "2023-12-06T21:49:14.396Z"
   },
   {
    "duration": 78,
    "start_time": "2023-12-06T21:49:15.586Z"
   },
   {
    "duration": 621,
    "start_time": "2023-12-06T21:49:15.666Z"
   },
   {
    "duration": 3,
    "start_time": "2023-12-06T21:49:16.289Z"
   },
   {
    "duration": 69,
    "start_time": "2023-12-06T21:49:16.294Z"
   },
   {
    "duration": 2,
    "start_time": "2023-12-06T21:49:16.365Z"
   },
   {
    "duration": 3,
    "start_time": "2023-12-06T21:49:16.369Z"
   },
   {
    "duration": 4,
    "start_time": "2023-12-06T21:49:16.373Z"
   },
   {
    "duration": 4,
    "start_time": "2023-12-06T21:49:16.378Z"
   },
   {
    "duration": 3,
    "start_time": "2023-12-06T21:49:16.383Z"
   },
   {
    "duration": 394,
    "start_time": "2023-12-06T21:49:16.387Z"
   },
   {
    "duration": 0,
    "start_time": "2023-12-06T21:49:16.783Z"
   },
   {
    "duration": 117,
    "start_time": "2023-12-06T21:50:25.705Z"
   },
   {
    "duration": 115,
    "start_time": "2023-12-06T21:50:28.983Z"
   },
   {
    "duration": 2,
    "start_time": "2023-12-06T21:58:05.611Z"
   },
   {
    "duration": 2,
    "start_time": "2023-12-06T21:58:06.616Z"
   },
   {
    "duration": 69,
    "start_time": "2023-12-06T21:58:07.851Z"
   },
   {
    "duration": 3,
    "start_time": "2023-12-06T21:58:12.904Z"
   },
   {
    "duration": 15520,
    "start_time": "2023-12-06T22:00:27.368Z"
   },
   {
    "duration": 8167,
    "start_time": "2023-12-06T22:00:42.891Z"
   },
   {
    "duration": 599,
    "start_time": "2023-12-06T22:00:51.060Z"
   },
   {
    "duration": 30,
    "start_time": "2023-12-06T22:00:51.660Z"
   },
   {
    "duration": 3889,
    "start_time": "2023-12-06T22:00:51.693Z"
   },
   {
    "duration": 1005,
    "start_time": "2023-12-06T22:00:55.583Z"
   },
   {
    "duration": 701,
    "start_time": "2023-12-06T22:00:56.589Z"
   },
   {
    "duration": 3507,
    "start_time": "2023-12-06T22:00:57.359Z"
   },
   {
    "duration": 4,
    "start_time": "2023-12-06T22:01:00.868Z"
   },
   {
    "duration": 1498,
    "start_time": "2023-12-06T22:01:00.874Z"
   },
   {
    "duration": 310,
    "start_time": "2023-12-06T22:01:02.374Z"
   },
   {
    "duration": 1836,
    "start_time": "2023-12-06T22:01:02.686Z"
   },
   {
    "duration": 2,
    "start_time": "2023-12-06T22:01:04.523Z"
   },
   {
    "duration": 15,
    "start_time": "2023-12-06T22:01:04.528Z"
   },
   {
    "duration": 6,
    "start_time": "2023-12-06T22:01:04.545Z"
   },
   {
    "duration": 101,
    "start_time": "2023-12-06T22:01:04.552Z"
   },
   {
    "duration": 0,
    "start_time": "2023-12-06T22:01:04.655Z"
   },
   {
    "duration": 0,
    "start_time": "2023-12-06T22:01:04.656Z"
   },
   {
    "duration": 0,
    "start_time": "2023-12-06T22:01:04.657Z"
   },
   {
    "duration": 0,
    "start_time": "2023-12-06T22:01:04.658Z"
   },
   {
    "duration": 0,
    "start_time": "2023-12-06T22:01:04.659Z"
   },
   {
    "duration": 0,
    "start_time": "2023-12-06T22:01:04.660Z"
   },
   {
    "duration": 0,
    "start_time": "2023-12-06T22:01:04.662Z"
   },
   {
    "duration": 0,
    "start_time": "2023-12-06T22:01:04.663Z"
   },
   {
    "duration": 0,
    "start_time": "2023-12-06T22:01:04.664Z"
   },
   {
    "duration": 0,
    "start_time": "2023-12-06T22:01:04.665Z"
   },
   {
    "duration": 0,
    "start_time": "2023-12-06T22:01:04.666Z"
   },
   {
    "duration": 0,
    "start_time": "2023-12-06T22:01:04.667Z"
   },
   {
    "duration": 43,
    "start_time": "2023-12-06T22:01:20.102Z"
   },
   {
    "duration": 86,
    "start_time": "2023-12-06T22:01:21.812Z"
   },
   {
    "duration": 944,
    "start_time": "2023-12-06T22:01:25.938Z"
   },
   {
    "duration": 22,
    "start_time": "2023-12-06T22:01:28.347Z"
   },
   {
    "duration": 123,
    "start_time": "2023-12-06T22:01:29.150Z"
   },
   {
    "duration": 4,
    "start_time": "2023-12-06T22:01:29.517Z"
   },
   {
    "duration": 554,
    "start_time": "2023-12-06T22:02:06.842Z"
   },
   {
    "duration": 4,
    "start_time": "2023-12-06T22:02:11.223Z"
   },
   {
    "duration": 19,
    "start_time": "2023-12-06T22:02:14.488Z"
   },
   {
    "duration": 153,
    "start_time": "2023-12-06T22:02:37.284Z"
   },
   {
    "duration": 1259,
    "start_time": "2023-12-06T22:03:34.324Z"
   },
   {
    "duration": 16,
    "start_time": "2023-12-06T22:04:27.351Z"
   },
   {
    "duration": 119,
    "start_time": "2023-12-06T22:04:55.167Z"
   },
   {
    "duration": 11,
    "start_time": "2023-12-06T22:05:57.495Z"
   },
   {
    "duration": 2145,
    "start_time": "2023-12-06T22:05:58.440Z"
   },
   {
    "duration": 3281,
    "start_time": "2023-12-06T22:06:10.813Z"
   },
   {
    "duration": 15425,
    "start_time": "2023-12-06T22:10:28.546Z"
   },
   {
    "duration": 7712,
    "start_time": "2023-12-06T22:10:43.974Z"
   },
   {
    "duration": 693,
    "start_time": "2023-12-06T22:10:51.688Z"
   },
   {
    "duration": 95,
    "start_time": "2023-12-06T22:10:52.384Z"
   },
   {
    "duration": 3885,
    "start_time": "2023-12-06T22:10:52.481Z"
   },
   {
    "duration": 915,
    "start_time": "2023-12-06T22:10:56.368Z"
   },
   {
    "duration": 691,
    "start_time": "2023-12-06T22:10:57.284Z"
   },
   {
    "duration": 3984,
    "start_time": "2023-12-06T22:10:57.976Z"
   },
   {
    "duration": 2,
    "start_time": "2023-12-06T22:11:01.962Z"
   },
   {
    "duration": 1312,
    "start_time": "2023-12-06T22:11:01.967Z"
   },
   {
    "duration": 305,
    "start_time": "2023-12-06T22:11:03.281Z"
   },
   {
    "duration": 2005,
    "start_time": "2023-12-06T22:11:03.587Z"
   },
   {
    "duration": 82,
    "start_time": "2023-12-06T22:11:05.593Z"
   },
   {
    "duration": 1282,
    "start_time": "2023-12-06T22:11:05.677Z"
   },
   {
    "duration": 26,
    "start_time": "2023-12-06T22:11:06.961Z"
   },
   {
    "duration": 615,
    "start_time": "2023-12-06T22:11:06.989Z"
   },
   {
    "duration": 4,
    "start_time": "2023-12-06T22:11:07.606Z"
   },
   {
    "duration": 36,
    "start_time": "2023-12-06T22:11:07.659Z"
   },
   {
    "duration": 2971,
    "start_time": "2023-12-06T22:11:07.696Z"
   },
   {
    "duration": 2,
    "start_time": "2023-12-06T22:11:10.670Z"
   },
   {
    "duration": 18,
    "start_time": "2023-12-06T22:11:10.674Z"
   },
   {
    "duration": 9,
    "start_time": "2023-12-06T22:11:10.693Z"
   },
   {
    "duration": 4,
    "start_time": "2023-12-06T22:11:10.704Z"
   },
   {
    "duration": 4,
    "start_time": "2023-12-06T22:11:10.710Z"
   },
   {
    "duration": 305,
    "start_time": "2023-12-06T22:11:10.716Z"
   },
   {
    "duration": 8,
    "start_time": "2023-12-06T22:12:21.384Z"
   },
   {
    "duration": 3,
    "start_time": "2023-12-06T22:12:29.889Z"
   },
   {
    "duration": 10,
    "start_time": "2023-12-06T22:12:32.510Z"
   },
   {
    "duration": 5,
    "start_time": "2023-12-06T22:12:40.204Z"
   },
   {
    "duration": 51664,
    "start_time": "2023-12-06T22:12:43.716Z"
   },
   {
    "duration": 2,
    "start_time": "2023-12-06T22:15:02.271Z"
   },
   {
    "duration": 3,
    "start_time": "2023-12-06T22:15:59.796Z"
   },
   {
    "duration": 5,
    "start_time": "2023-12-06T22:16:19.106Z"
   },
   {
    "duration": 2,
    "start_time": "2023-12-06T22:17:33.518Z"
   },
   {
    "duration": 2,
    "start_time": "2023-12-06T22:17:33.822Z"
   },
   {
    "duration": 2,
    "start_time": "2023-12-06T22:17:34.123Z"
   },
   {
    "duration": 2,
    "start_time": "2023-12-06T22:17:35.216Z"
   },
   {
    "duration": 1836,
    "start_time": "2023-12-06T22:19:24.647Z"
   },
   {
    "duration": 1801,
    "start_time": "2023-12-06T22:19:32.131Z"
   },
   {
    "duration": 687,
    "start_time": "2023-12-06T22:21:32.202Z"
   },
   {
    "duration": 540,
    "start_time": "2023-12-06T22:22:02.626Z"
   },
   {
    "duration": 626,
    "start_time": "2023-12-06T22:22:46.440Z"
   },
   {
    "duration": 1136,
    "start_time": "2023-12-06T22:31:23.947Z"
   },
   {
    "duration": 851,
    "start_time": "2023-12-06T22:32:22.039Z"
   },
   {
    "duration": 774,
    "start_time": "2023-12-06T22:32:55.409Z"
   },
   {
    "duration": 800,
    "start_time": "2023-12-06T22:33:03.932Z"
   },
   {
    "duration": 718,
    "start_time": "2023-12-06T22:33:52.248Z"
   },
   {
    "duration": 15655,
    "start_time": "2023-12-06T22:35:57.708Z"
   },
   {
    "duration": 8193,
    "start_time": "2023-12-06T22:36:13.366Z"
   },
   {
    "duration": 702,
    "start_time": "2023-12-06T22:36:21.560Z"
   },
   {
    "duration": 30,
    "start_time": "2023-12-06T22:36:22.267Z"
   },
   {
    "duration": 3981,
    "start_time": "2023-12-06T22:36:22.298Z"
   },
   {
    "duration": 994,
    "start_time": "2023-12-06T22:36:26.281Z"
   },
   {
    "duration": 699,
    "start_time": "2023-12-06T22:36:27.276Z"
   },
   {
    "duration": 3790,
    "start_time": "2023-12-06T22:36:27.977Z"
   },
   {
    "duration": 3,
    "start_time": "2023-12-06T22:36:31.768Z"
   },
   {
    "duration": 1401,
    "start_time": "2023-12-06T22:36:31.774Z"
   },
   {
    "duration": 389,
    "start_time": "2023-12-06T22:36:33.177Z"
   },
   {
    "duration": 1975,
    "start_time": "2023-12-06T22:36:33.568Z"
   },
   {
    "duration": 56,
    "start_time": "2023-12-06T22:36:35.545Z"
   },
   {
    "duration": 1282,
    "start_time": "2023-12-06T22:36:35.603Z"
   },
   {
    "duration": 90,
    "start_time": "2023-12-06T22:36:36.887Z"
   },
   {
    "duration": 617,
    "start_time": "2023-12-06T22:36:36.979Z"
   },
   {
    "duration": 4,
    "start_time": "2023-12-06T22:36:37.598Z"
   },
   {
    "duration": 73,
    "start_time": "2023-12-06T22:36:37.603Z"
   },
   {
    "duration": 2305,
    "start_time": "2023-12-06T22:36:37.677Z"
   },
   {
    "duration": 2,
    "start_time": "2023-12-06T22:36:39.984Z"
   },
   {
    "duration": 72,
    "start_time": "2023-12-06T22:36:39.988Z"
   },
   {
    "duration": 20,
    "start_time": "2023-12-06T22:36:40.061Z"
   },
   {
    "duration": 7,
    "start_time": "2023-12-06T22:36:40.083Z"
   },
   {
    "duration": 3380,
    "start_time": "2023-12-06T22:36:40.091Z"
   },
   {
    "duration": 2621,
    "start_time": "2023-12-06T22:36:43.473Z"
   },
   {
    "duration": 682,
    "start_time": "2023-12-06T22:36:46.096Z"
   },
   {
    "duration": 827,
    "start_time": "2023-12-06T22:36:46.780Z"
   },
   {
    "duration": 1375,
    "start_time": "2023-12-06T22:36:47.610Z"
   },
   {
    "duration": 1043,
    "start_time": "2023-12-06T22:36:48.987Z"
   },
   {
    "duration": 1064,
    "start_time": "2023-12-06T22:36:50.032Z"
   },
   {
    "duration": 73,
    "start_time": "2023-12-06T22:52:01.594Z"
   },
   {
    "duration": 102,
    "start_time": "2023-12-06T22:54:00.632Z"
   },
   {
    "duration": 15759,
    "start_time": "2023-12-07T09:13:13.741Z"
   },
   {
    "duration": 8616,
    "start_time": "2023-12-07T09:13:29.503Z"
   },
   {
    "duration": 790,
    "start_time": "2023-12-07T09:13:38.121Z"
   },
   {
    "duration": 97,
    "start_time": "2023-12-07T09:13:38.914Z"
   },
   {
    "duration": 4026,
    "start_time": "2023-12-07T09:13:39.013Z"
   },
   {
    "duration": 1021,
    "start_time": "2023-12-07T09:13:43.099Z"
   },
   {
    "duration": 692,
    "start_time": "2023-12-07T09:13:44.122Z"
   },
   {
    "duration": 3818,
    "start_time": "2023-12-07T09:13:44.815Z"
   },
   {
    "duration": 31,
    "start_time": "2023-12-07T09:14:11.621Z"
   },
   {
    "duration": 3,
    "start_time": "2023-12-07T09:14:16.542Z"
   },
   {
    "duration": 1984,
    "start_time": "2023-12-07T09:14:56.922Z"
   },
   {
    "duration": 222,
    "start_time": "2023-12-07T09:15:11.502Z"
   },
   {
    "duration": 672,
    "start_time": "2023-12-07T09:15:37.430Z"
   },
   {
    "duration": 513,
    "start_time": "2023-12-07T09:15:49.122Z"
   },
   {
    "duration": 648,
    "start_time": "2023-12-07T09:18:35.782Z"
   },
   {
    "duration": 16607,
    "start_time": "2023-12-07T09:19:58.141Z"
   },
   {
    "duration": 8851,
    "start_time": "2023-12-07T09:20:14.750Z"
   },
   {
    "duration": 727,
    "start_time": "2023-12-07T09:20:23.607Z"
   },
   {
    "duration": 102,
    "start_time": "2023-12-07T09:20:24.337Z"
   },
   {
    "duration": 4760,
    "start_time": "2023-12-07T09:20:24.441Z"
   },
   {
    "duration": 1120,
    "start_time": "2023-12-07T09:20:29.203Z"
   },
   {
    "duration": 809,
    "start_time": "2023-12-07T09:20:30.325Z"
   },
   {
    "duration": 4119,
    "start_time": "2023-12-07T09:20:31.136Z"
   },
   {
    "duration": 73,
    "start_time": "2023-12-07T09:20:35.257Z"
   },
   {
    "duration": 3,
    "start_time": "2023-12-07T09:20:35.333Z"
   },
   {
    "duration": 1996,
    "start_time": "2023-12-07T09:20:35.338Z"
   },
   {
    "duration": 13,
    "start_time": "2023-12-07T09:21:25.881Z"
   },
   {
    "duration": 6,
    "start_time": "2023-12-07T09:22:37.674Z"
   },
   {
    "duration": 105,
    "start_time": "2023-12-07T09:22:42.341Z"
   },
   {
    "duration": 588,
    "start_time": "2023-12-07T09:22:50.249Z"
   },
   {
    "duration": 15919,
    "start_time": "2023-12-07T10:12:21.284Z"
   },
   {
    "duration": 8011,
    "start_time": "2023-12-07T10:12:37.205Z"
   },
   {
    "duration": 688,
    "start_time": "2023-12-07T10:12:45.217Z"
   },
   {
    "duration": 35,
    "start_time": "2023-12-07T10:12:45.907Z"
   },
   {
    "duration": 3777,
    "start_time": "2023-12-07T10:12:45.944Z"
   },
   {
    "duration": 977,
    "start_time": "2023-12-07T10:12:49.723Z"
   },
   {
    "duration": 698,
    "start_time": "2023-12-07T10:12:50.701Z"
   },
   {
    "duration": 3353,
    "start_time": "2023-12-07T10:12:51.401Z"
   },
   {
    "duration": 66,
    "start_time": "2023-12-07T10:12:54.756Z"
   },
   {
    "duration": 2,
    "start_time": "2023-12-07T10:12:54.825Z"
   },
   {
    "duration": 2087,
    "start_time": "2023-12-07T10:12:54.829Z"
   },
   {
    "duration": 217,
    "start_time": "2023-12-07T10:12:56.918Z"
   },
   {
    "duration": 101,
    "start_time": "2023-12-07T10:15:12.871Z"
   },
   {
    "duration": 89,
    "start_time": "2023-12-07T10:15:17.174Z"
   },
   {
    "duration": 97,
    "start_time": "2023-12-07T10:17:02.746Z"
   },
   {
    "duration": 574,
    "start_time": "2023-12-07T10:17:18.763Z"
   },
   {
    "duration": 675,
    "start_time": "2023-12-07T10:17:52.356Z"
   },
   {
    "duration": 678,
    "start_time": "2023-12-07T10:18:04.730Z"
   },
   {
    "duration": 620,
    "start_time": "2023-12-07T10:18:24.787Z"
   },
   {
    "duration": 1120,
    "start_time": "2023-12-07T10:19:02.007Z"
   },
   {
    "duration": 8,
    "start_time": "2023-12-07T10:21:10.504Z"
   },
   {
    "duration": 9,
    "start_time": "2023-12-07T10:21:18.750Z"
   },
   {
    "duration": 16,
    "start_time": "2023-12-07T10:21:26.502Z"
   },
   {
    "duration": 7,
    "start_time": "2023-12-07T10:22:31.199Z"
   },
   {
    "duration": 352,
    "start_time": "2023-12-07T10:22:38.969Z"
   },
   {
    "duration": 284,
    "start_time": "2023-12-07T10:22:52.222Z"
   },
   {
    "duration": 304,
    "start_time": "2023-12-07T10:22:55.596Z"
   },
   {
    "duration": 356,
    "start_time": "2023-12-07T10:26:06.911Z"
   },
   {
    "duration": 598,
    "start_time": "2023-12-07T10:26:31.633Z"
   },
   {
    "duration": 425,
    "start_time": "2023-12-07T10:26:34.408Z"
   },
   {
    "duration": 112,
    "start_time": "2023-12-07T10:26:58.816Z"
   },
   {
    "duration": 314,
    "start_time": "2023-12-07T10:27:40.014Z"
   },
   {
    "duration": 448,
    "start_time": "2023-12-07T10:28:11.573Z"
   },
   {
    "duration": 100,
    "start_time": "2023-12-07T10:32:16.038Z"
   },
   {
    "duration": 1370,
    "start_time": "2023-12-07T10:35:36.675Z"
   },
   {
    "duration": 924,
    "start_time": "2023-12-07T10:37:40.318Z"
   },
   {
    "duration": 16988,
    "start_time": "2023-12-07T10:38:21.453Z"
   },
   {
    "duration": 9584,
    "start_time": "2023-12-07T10:38:38.443Z"
   },
   {
    "duration": 820,
    "start_time": "2023-12-07T10:38:48.029Z"
   },
   {
    "duration": 46,
    "start_time": "2023-12-07T10:38:48.901Z"
   },
   {
    "duration": 4789,
    "start_time": "2023-12-07T10:38:48.949Z"
   },
   {
    "duration": 1111,
    "start_time": "2023-12-07T10:38:53.739Z"
   },
   {
    "duration": 783,
    "start_time": "2023-12-07T10:38:54.851Z"
   },
   {
    "duration": 4585,
    "start_time": "2023-12-07T10:38:55.636Z"
   },
   {
    "duration": 79,
    "start_time": "2023-12-07T10:39:00.223Z"
   },
   {
    "duration": 8,
    "start_time": "2023-12-07T10:39:00.307Z"
   },
   {
    "duration": 2511,
    "start_time": "2023-12-07T10:39:00.317Z"
   },
   {
    "duration": 700,
    "start_time": "2023-12-07T10:39:02.831Z"
   },
   {
    "duration": 400,
    "start_time": "2023-12-07T10:39:03.537Z"
   },
   {
    "duration": 87,
    "start_time": "2023-12-07T10:39:13.945Z"
   },
   {
    "duration": 1698,
    "start_time": "2023-12-07T10:39:16.936Z"
   },
   {
    "duration": 13,
    "start_time": "2023-12-07T10:41:06.330Z"
   },
   {
    "duration": 87,
    "start_time": "2023-12-07T10:41:15.167Z"
   },
   {
    "duration": 16964,
    "start_time": "2023-12-07T10:42:02.769Z"
   },
   {
    "duration": 9296,
    "start_time": "2023-12-07T10:42:19.735Z"
   },
   {
    "duration": 868,
    "start_time": "2023-12-07T10:42:29.033Z"
   },
   {
    "duration": 39,
    "start_time": "2023-12-07T10:42:29.904Z"
   },
   {
    "duration": 4927,
    "start_time": "2023-12-07T10:42:30.002Z"
   },
   {
    "duration": 1118,
    "start_time": "2023-12-07T10:42:34.931Z"
   },
   {
    "duration": 831,
    "start_time": "2023-12-07T10:42:36.104Z"
   },
   {
    "duration": 4376,
    "start_time": "2023-12-07T10:42:36.936Z"
   },
   {
    "duration": 87,
    "start_time": "2023-12-07T10:42:41.314Z"
   },
   {
    "duration": 8,
    "start_time": "2023-12-07T10:42:41.404Z"
   },
   {
    "duration": 2127,
    "start_time": "2023-12-07T10:42:41.416Z"
   },
   {
    "duration": 865,
    "start_time": "2023-12-07T10:42:43.546Z"
   },
   {
    "duration": 603,
    "start_time": "2023-12-07T10:42:44.412Z"
   },
   {
    "duration": 129,
    "start_time": "2023-12-07T10:43:01.070Z"
   },
   {
    "duration": 845,
    "start_time": "2023-12-07T10:43:13.889Z"
   },
   {
    "duration": 1459,
    "start_time": "2023-12-07T10:43:42.678Z"
   },
   {
    "duration": 66,
    "start_time": "2023-12-07T10:44:48.269Z"
   },
   {
    "duration": 1297,
    "start_time": "2023-12-07T10:45:09.847Z"
   },
   {
    "duration": 4,
    "start_time": "2023-12-07T10:46:00.947Z"
   },
   {
    "duration": 1359,
    "start_time": "2023-12-07T10:46:13.882Z"
   },
   {
    "duration": 4888,
    "start_time": "2023-12-07T10:46:42.284Z"
   },
   {
    "duration": 2049,
    "start_time": "2023-12-07T10:46:47.174Z"
   },
   {
    "duration": 710,
    "start_time": "2023-12-07T10:46:49.225Z"
   },
   {
    "duration": 718,
    "start_time": "2023-12-07T10:46:49.937Z"
   },
   {
    "duration": 1178,
    "start_time": "2023-12-07T10:46:50.699Z"
   },
   {
    "duration": 1103,
    "start_time": "2023-12-07T10:46:51.879Z"
   },
   {
    "duration": 1009,
    "start_time": "2023-12-07T10:46:52.984Z"
   },
   {
    "duration": 1772,
    "start_time": "2023-12-07T10:50:52.481Z"
   },
   {
    "duration": 1740,
    "start_time": "2023-12-07T10:50:58.293Z"
   },
   {
    "duration": 362,
    "start_time": "2023-12-07T10:51:00.960Z"
   },
   {
    "duration": 388,
    "start_time": "2023-12-07T10:51:01.850Z"
   },
   {
    "duration": 791,
    "start_time": "2023-12-07T10:51:02.919Z"
   },
   {
    "duration": 853,
    "start_time": "2023-12-07T10:51:03.712Z"
   },
   {
    "duration": 757,
    "start_time": "2023-12-07T10:51:04.567Z"
   },
   {
    "duration": 17859,
    "start_time": "2023-12-07T10:52:01.479Z"
   },
   {
    "duration": 9898,
    "start_time": "2023-12-07T10:52:19.341Z"
   },
   {
    "duration": 896,
    "start_time": "2023-12-07T10:52:29.241Z"
   },
   {
    "duration": 85,
    "start_time": "2023-12-07T10:52:30.140Z"
   },
   {
    "duration": 5522,
    "start_time": "2023-12-07T10:52:30.233Z"
   },
   {
    "duration": 1277,
    "start_time": "2023-12-07T10:52:35.757Z"
   },
   {
    "duration": 686,
    "start_time": "2023-12-07T10:52:37.036Z"
   },
   {
    "duration": 4647,
    "start_time": "2023-12-07T10:52:37.724Z"
   },
   {
    "duration": 48,
    "start_time": "2023-12-07T10:52:42.399Z"
   },
   {
    "duration": 3,
    "start_time": "2023-12-07T10:52:42.450Z"
   },
   {
    "duration": 2854,
    "start_time": "2023-12-07T10:52:42.455Z"
   },
   {
    "duration": 737,
    "start_time": "2023-12-07T10:52:45.311Z"
   },
   {
    "duration": 469,
    "start_time": "2023-12-07T10:52:46.050Z"
   },
   {
    "duration": 191,
    "start_time": "2023-12-07T10:52:46.521Z"
   },
   {
    "duration": 1914,
    "start_time": "2023-12-07T10:52:46.714Z"
   },
   {
    "duration": 110,
    "start_time": "2023-12-07T10:52:48.629Z"
   },
   {
    "duration": 1288,
    "start_time": "2023-12-07T10:52:48.741Z"
   },
   {
    "duration": 8,
    "start_time": "2023-12-07T10:52:50.031Z"
   },
   {
    "duration": 1298,
    "start_time": "2023-12-07T10:52:50.042Z"
   },
   {
    "duration": 3,
    "start_time": "2023-12-07T10:52:51.341Z"
   },
   {
    "duration": 57,
    "start_time": "2023-12-07T10:52:51.346Z"
   },
   {
    "duration": 30,
    "start_time": "2023-12-07T10:52:51.405Z"
   },
   {
    "duration": 65,
    "start_time": "2023-12-07T10:52:51.437Z"
   },
   {
    "duration": 3936,
    "start_time": "2023-12-07T10:52:51.505Z"
   },
   {
    "duration": 2565,
    "start_time": "2023-12-07T10:52:55.442Z"
   },
   {
    "duration": 691,
    "start_time": "2023-12-07T10:52:58.008Z"
   },
   {
    "duration": 614,
    "start_time": "2023-12-07T10:52:58.701Z"
   },
   {
    "duration": 1413,
    "start_time": "2023-12-07T10:52:59.319Z"
   },
   {
    "duration": 1149,
    "start_time": "2023-12-07T10:53:00.734Z"
   },
   {
    "duration": 1074,
    "start_time": "2023-12-07T10:53:01.905Z"
   },
   {
    "duration": 2350,
    "start_time": "2023-12-07T10:53:44.781Z"
   },
   {
    "duration": 542,
    "start_time": "2023-12-07T10:53:50.291Z"
   },
   {
    "duration": 1632,
    "start_time": "2023-12-07T10:54:03.914Z"
   },
   {
    "duration": 482,
    "start_time": "2023-12-07T10:54:05.549Z"
   },
   {
    "duration": 396,
    "start_time": "2023-12-07T10:54:06.033Z"
   },
   {
    "duration": 739,
    "start_time": "2023-12-07T10:54:06.433Z"
   },
   {
    "duration": 734,
    "start_time": "2023-12-07T10:54:07.173Z"
   },
   {
    "duration": 647,
    "start_time": "2023-12-07T10:54:07.909Z"
   },
   {
    "duration": 1646,
    "start_time": "2023-12-07T11:00:24.102Z"
   },
   {
    "duration": 1295,
    "start_time": "2023-12-07T11:00:25.750Z"
   },
   {
    "duration": 320,
    "start_time": "2023-12-07T11:00:27.047Z"
   },
   {
    "duration": 340,
    "start_time": "2023-12-07T11:00:27.370Z"
   },
   {
    "duration": 569,
    "start_time": "2023-12-07T11:00:27.712Z"
   },
   {
    "duration": 666,
    "start_time": "2023-12-07T11:00:28.283Z"
   },
   {
    "duration": 524,
    "start_time": "2023-12-07T11:00:28.951Z"
   }
  ],
  "colab": {
   "name": "PySparkSprint.ipynb",
   "provenance": []
  },
  "kernelspec": {
   "display_name": "Python 3 (ipykernel)",
   "language": "python",
   "name": "python3"
  },
  "language_info": {
   "codemirror_mode": {
    "name": "ipython",
    "version": 3
   },
   "file_extension": ".py",
   "mimetype": "text/x-python",
   "name": "python",
   "nbconvert_exporter": "python",
   "pygments_lexer": "ipython3",
   "version": "3.9.13"
  },
  "toc": {
   "base_numbering": 1,
   "nav_menu": {},
   "number_sections": true,
   "sideBar": true,
   "skip_h1_title": true,
   "title_cell": "Table of Contents",
   "title_sidebar": "Contents",
   "toc_cell": false,
   "toc_position": {},
   "toc_section_display": true,
   "toc_window_display": false
  }
 },
 "nbformat": 4,
 "nbformat_minor": 5
}
